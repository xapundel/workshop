{
 "cells": [
  {
   "cell_type": "code",
   "execution_count": null,
   "metadata": {},
   "outputs": [],
   "source": [
    "!pip install cloudant\n",
    "import requests\n",
    "import os\n",
    "import datetime\n",
    "import json\n",
    "from cloudant.client import Cloudant\n",
    "from cloudant.error import CloudantException\n",
    "from cloudant.result import Result, ResultByKey\n",
    "\n",
    "if 'VCAP_SERVICES' in os.environ:\n",
    "    vcap = json.loads(os.getenv(\"VCAP_SERVICES\"))['cloudantNoSQLDB']        \n",
    "    cloudant_username = vcap[0]['credentials']['username']\n",
    "    cloudant_password = vcap[0]['credentials']['password']    \n",
    "    cloudant_url = vcap[0]['credentials']['url']\n",
    "else:\n",
    "    cloudant_username = \"admin\"\n",
    "    cloudant_password = \"pass\"\n",
    "    cloudant_url = \"http://cloudant-developer\"\n",
    "\n",
    "cloudant_database  =\"test\"\n",
    "\n",
    "\n",
    "client = Cloudant(cloudant_username, cloudant_password, url=cloudant_url)\n",
    "client.connect()\n"
   ]
  },
  {
   "cell_type": "code",
   "execution_count": null,
   "metadata": {},
   "outputs": [],
   "source": [
    "#create database\n",
    "databaseName = \"databasedemo\"\n",
    "myDatabaseDemo = client.create_database(databaseName)\n",
    "if myDatabaseDemo.exists():\n",
    "    print(\"database exist\")\n"
   ]
  },
  {
   "cell_type": "code",
   "execution_count": null,
   "metadata": {},
   "outputs": [],
   "source": [
    "#generate data\n",
    "sampleData = [\n",
    "    [1, \"one\", \"boiling\", 100],\n",
    "    [2, \"two\", \"hot\", 40],\n",
    "    [3, \"three\", \"warm\", 20],\n",
    "    [4, \"four\", \"cold\", 10],\n",
    "    [5, \"five\", \"freezing\", 0]\n",
    "]"
   ]
  },
  {
   "cell_type": "code",
   "execution_count": null,
   "metadata": {},
   "outputs": [],
   "source": [
    "# Create documents using the sample data.\n",
    "# Go through each row in the array\n",
    "for document in sampleData:\n",
    "    # Retrieve the fields in each row.\n",
    "    number = document[0]\n",
    "    name = document[1]\n",
    "    description = document[2]\n",
    "    temperature = document[3]\n",
    "\n",
    "    # Create a JSON document that represents\n",
    "    # all the data in the row.\n",
    "    jsonDocument = {\n",
    "        \"numberField\": number,\n",
    "        \"nameField\": name,\n",
    "        \"descriptionField\": description,\n",
    "        \"temperatureField\": temperature\n",
    "    }\n",
    "\n",
    "    # Create a document using the Database API.\n",
    "    newDocument = myDatabaseDemo.create_document(jsonDocument)\n",
    "\n",
    "    # Check that the document exists in the database.\n",
    "    if newDocument.exists():\n",
    "        print (\"Document '{0}' successfully created.\".format(number))"
   ]
  },
  {
   "cell_type": "code",
   "execution_count": null,
   "metadata": {},
   "outputs": [],
   "source": []
  }
 ],
 "metadata": {
  "kernelspec": {
   "display_name": "Python 3",
   "language": "python",
   "name": "python3"
  },
  "language_info": {
   "codemirror_mode": {
    "name": "ipython",
    "version": 3
   },
   "file_extension": ".py",
   "mimetype": "text/x-python",
   "name": "python",
   "nbconvert_exporter": "python",
   "pygments_lexer": "ipython3",
   "version": "3.6.3"
  }
 },
 "nbformat": 4,
 "nbformat_minor": 2
}
